{
 "cells": [
  {
   "cell_type": "code",
   "execution_count": 2,
   "metadata": {},
   "outputs": [
    {
     "name": "stdout",
     "output_type": "stream",
     "text": [
      "City: los angeles, Country: us\n"
     ]
    }
   ],
   "source": [
    "from citipy import citipy\n",
    "\n",
    "# Define latitude and longitude\n",
    "test_lat = 34.0522\n",
    "test_lng = -118.2437\n",
    "\n",
    "# Use citipy to find the nearest city\n",
    "nearest_city = citipy.nearest_city(test_lat, test_lng)\n",
    "\n",
    "# Print the city name and country code\n",
    "print(f\"City: {nearest_city.city_name}, Country: {nearest_city.country_code}\")\n"
   ]
  },
  {
   "cell_type": "code",
   "execution_count": null,
   "metadata": {},
   "outputs": [],
   "source": []
  }
 ],
 "metadata": {
  "kernelspec": {
   "display_name": "DataViz2",
   "language": "python",
   "name": "python3"
  },
  "language_info": {
   "codemirror_mode": {
    "name": "ipython",
    "version": 3
   },
   "file_extension": ".py",
   "mimetype": "text/x-python",
   "name": "python",
   "nbconvert_exporter": "python",
   "pygments_lexer": "ipython3",
   "version": "3.11.9"
  }
 },
 "nbformat": 4,
 "nbformat_minor": 2
}
